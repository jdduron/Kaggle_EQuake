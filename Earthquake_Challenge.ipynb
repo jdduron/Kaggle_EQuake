{
 "cells": [
  {
   "cell_type": "markdown",
   "metadata": {
    "colab_type": "text",
    "id": "uT-B0AyTbFVY"
   },
   "source": [
    "# Step 1 - Install & Import Dependencies"
   ]
  },
  {
   "cell_type": "code",
   "execution_count": 2,
   "metadata": {
    "colab": {
     "base_uri": "https://localhost:8080/",
     "height": 530
    },
    "colab_type": "code",
    "id": "QBzPAcuLoaew",
    "outputId": "56b85956-c85c-4820-c960-a6b93214b6bc"
   },
   "outputs": [
    {
     "name": "stdout",
     "output_type": "stream",
     "text": [
      "Requirement already satisfied: kaggle in c:\\users\\josed\\anaconda3\\lib\\site-packages (1.5.3)\n",
      "Requirement already satisfied: urllib3<1.25,>=1.21.1 in c:\\users\\josed\\anaconda3\\lib\\site-packages (from kaggle) (1.24.1)\n",
      "Requirement already satisfied: six>=1.10 in c:\\users\\josed\\anaconda3\\lib\\site-packages (from kaggle) (1.12.0)\n",
      "Requirement already satisfied: python-slugify in c:\\users\\josed\\anaconda3\\lib\\site-packages (from kaggle) (3.0.0)\n",
      "Requirement already satisfied: requests in c:\\users\\josed\\anaconda3\\lib\\site-packages (from kaggle) (2.21.0)\n",
      "Requirement already satisfied: python-dateutil in c:\\users\\josed\\anaconda3\\lib\\site-packages (from kaggle) (2.7.5)\n",
      "Requirement already satisfied: certifi in c:\\users\\josed\\anaconda3\\lib\\site-packages (from kaggle) (2018.11.29)\n",
      "Requirement already satisfied: tqdm in c:\\users\\josed\\anaconda3\\lib\\site-packages (from kaggle) (4.28.1)\n",
      "Requirement already satisfied: text-unidecode==1.2 in c:\\users\\josed\\anaconda3\\lib\\site-packages (from python-slugify->kaggle) (1.2)\n",
      "Requirement already satisfied: chardet<3.1.0,>=3.0.2 in c:\\users\\josed\\anaconda3\\lib\\site-packages (from requests->kaggle) (3.0.4)\n",
      "Requirement already satisfied: idna<2.9,>=2.5 in c:\\users\\josed\\anaconda3\\lib\\site-packages (from requests->kaggle) (2.8)\n",
      "Requirement already satisfied: numpy==1.15.0 in c:\\users\\josed\\anaconda3\\lib\\site-packages (1.15.0)\n",
      "Requirement already satisfied: catboost in c:\\users\\josed\\anaconda3\\lib\\site-packages (0.12.2)\n",
      "Requirement already satisfied: pandas>=0.19.1 in c:\\users\\josed\\anaconda3\\lib\\site-packages (from catboost) (0.23.4)\n",
      "Requirement already satisfied: enum34 in c:\\users\\josed\\anaconda3\\lib\\site-packages (from catboost) (1.1.6)\n",
      "Requirement already satisfied: six in c:\\users\\josed\\anaconda3\\lib\\site-packages (from catboost) (1.12.0)\n",
      "Requirement already satisfied: numpy>=1.11.1 in c:\\users\\josed\\anaconda3\\lib\\site-packages (from catboost) (1.15.0)\n",
      "Requirement already satisfied: python-dateutil>=2.5.0 in c:\\users\\josed\\anaconda3\\lib\\site-packages (from pandas>=0.19.1->catboost) (2.7.5)\n",
      "Requirement already satisfied: pytz>=2011k in c:\\users\\josed\\anaconda3\\lib\\site-packages (from pandas>=0.19.1->catboost) (2018.7)\n"
     ]
    }
   ],
   "source": [
    "#to access kaggle datasets\n",
    "!pip install kaggle\n",
    "#Math operations\n",
    "!pip install numpy==1.15.0\n",
    "#Machine learning\n",
    "!pip install catboost"
   ]
  },
  {
   "cell_type": "code",
   "execution_count": 3,
   "metadata": {
    "colab": {},
    "colab_type": "code",
    "id": "reHWaDX-pGlx"
   },
   "outputs": [],
   "source": [
    "#data preprocessing\n",
    "import pandas as pd\n",
    "#math operations\n",
    "import numpy as np\n",
    "#machine learning\n",
    "from catboost import CatBoostRegressor, Pool\n",
    "#data scaling\n",
    "from sklearn.preprocessing import StandardScaler\n",
    "#hyperparameter optimization\n",
    "from sklearn.model_selection import GridSearchCV\n",
    "#support vector machine model\n",
    "from sklearn.svm import NuSVR, SVR\n",
    "#kernel ridge model\n",
    "from sklearn.kernel_ridge import KernelRidge\n",
    "#data visualization\n",
    "import matplotlib.pyplot as plt"
   ]
  },
  {
   "cell_type": "markdown",
   "metadata": {
    "colab_type": "text",
    "id": "QMtu1W7ebhRD"
   },
   "source": [
    "# Step 2 - Import Dataset from Kaggle"
   ]
  },
  {
   "cell_type": "code",
   "execution_count": 4,
   "metadata": {
    "colab": {
     "base_uri": "https://localhost:8080/",
     "height": 391
    },
    "colab_type": "code",
    "id": "sGcveM2up-04",
    "outputId": "b0688bfa-3225-4d18-e24d-2aafb8af766a"
   },
   "outputs": [
    {
     "name": "stdout",
     "output_type": "stream",
     "text": [
      "ref                                            deadline             category            reward  teamCount  userHasEntered  \n",
      "---------------------------------------------  -------------------  ---------------  ---------  ---------  --------------  \n",
      "digit-recognizer                               2030-01-01 00:00:00  Getting Started  Knowledge       2515           False  \n",
      "titanic                                        2030-01-01 00:00:00  Getting Started  Knowledge      10113           False  \n",
      "house-prices-advanced-regression-techniques    2030-01-01 00:00:00  Getting Started  Knowledge       3989           False  \n",
      "imagenet-object-localization-challenge         2029-12-31 07:00:00  Research         Knowledge         36           False  \n",
      "competitive-data-science-predict-future-sales  2019-12-31 23:59:00  Playground           Kudos       2516           False  \n",
      "two-sigma-financial-news                       2019-07-15 23:59:00  Featured          $100,000       2927           False  \n",
      "aerial-cactus-identification                   2019-07-08 23:59:00  Playground       Knowledge         56           False  \n",
      "LANL-Earthquake-Prediction                     2019-06-03 23:59:00  Research           $50,000       1703            True  \n",
      "tmdb-box-office-prediction                     2019-05-30 23:59:00  Playground       Knowledge        393           False  \n",
      "dont-overfit-ii                                2019-05-07 23:59:00  Playground            Swag       1085           False  \n",
      "data-science-for-good-careervillage            2019-04-23 23:59:00  Analytics          $15,000          0           False  \n",
      "gendered-pronoun-resolution                    2019-04-22 23:59:00  Research           $25,000        390           False  \n",
      "santander-customer-transaction-prediction      2019-04-10 23:59:00  Featured           $65,000       5397           False  \n",
      "womens-machine-learning-competition-2019       2019-04-09 23:59:00  Featured           $25,000        214           False  \n",
      "mens-machine-learning-competition-2019         2019-04-08 23:59:00  Featured           $25,000        358           False  \n",
      "histopathologic-cancer-detection               2019-03-30 23:59:00  Playground       Knowledge        919           False  \n",
      "petfinder-adoption-prediction                  2019-03-28 23:59:00  Featured           $25,000       1715           False  \n",
      "vsb-power-line-fault-detection                 2019-03-21 23:59:00  Featured           $25,000       1333           False  \n",
      "microsoft-malware-prediction                   2019-03-13 23:59:00  Research           $25,000       2440           False  \n",
      "humpback-whale-identification                  2019-02-28 23:59:00  Featured           $25,000       2131           False  \n"
     ]
    }
   ],
   "source": [
    "#list competitions\n",
    "!kaggle competitions list"
   ]
  },
  {
   "cell_type": "code",
   "execution_count": 5,
   "metadata": {
    "colab": {
     "base_uri": "https://localhost:8080/",
     "height": 170
    },
    "colab_type": "code",
    "id": "zHB6DdwrqAav",
    "outputId": "07c84fd9-e61c-4cf2-cf4b-0a0cf09e65ee"
   },
   "outputs": [
    {
     "name": "stdout",
     "output_type": "stream",
     "text": [
      "sample_submission.csv: Skipping, found more recently modified local copy (use --force to force download)\n",
      "test.zip: Skipping, found more recently modified local copy (use --force to force download)\n",
      "train.csv.zip: Skipping, found more recently modified local copy (use --force to force download)\n"
     ]
    }
   ],
   "source": [
    "#download earthquake data, will take 30-60 seconds\n",
    "!kaggle competitions download -c LANL-Earthquake-Prediction"
   ]
  },
  {
   "cell_type": "markdown",
   "metadata": {
    "colab_type": "text",
    "id": "afvCmHVDcPe-"
   },
   "source": [
    "# Step 3 - Exploratory Data Analysis"
   ]
  },
  {
   "cell_type": "code",
   "execution_count": 7,
   "metadata": {
    "colab": {},
    "colab_type": "code",
    "id": "IPTChUFWpJKY",
    "scrolled": true
   },
   "outputs": [],
   "source": [
    "#Extract training data into a dataframe for further manipulation\n",
    "train = pd.read_csv('train.csv', nrows=6000000, dtype={'acoustic_data': np.int16, 'time_to_failure': np.float64})"
   ]
  },
  {
   "cell_type": "code",
   "execution_count": 8,
   "metadata": {
    "colab": {
     "base_uri": "https://localhost:8080/",
     "height": 359
    },
    "colab_type": "code",
    "id": "oUXVLqoSxt01",
    "outputId": "56525b15-0519-420f-ff3a-4db8ff958df3"
   },
   "outputs": [
    {
     "data": {
      "text/html": [
       "<div>\n",
       "<style scoped>\n",
       "    .dataframe tbody tr th:only-of-type {\n",
       "        vertical-align: middle;\n",
       "    }\n",
       "\n",
       "    .dataframe tbody tr th {\n",
       "        vertical-align: top;\n",
       "    }\n",
       "\n",
       "    .dataframe thead th {\n",
       "        text-align: right;\n",
       "    }\n",
       "</style>\n",
       "<table border=\"1\" class=\"dataframe\">\n",
       "  <thead>\n",
       "    <tr style=\"text-align: right;\">\n",
       "      <th></th>\n",
       "      <th>acoustic_data</th>\n",
       "      <th>time_to_failure</th>\n",
       "    </tr>\n",
       "  </thead>\n",
       "  <tbody>\n",
       "    <tr>\n",
       "      <th>0</th>\n",
       "      <td>12</td>\n",
       "      <td>1.4691</td>\n",
       "    </tr>\n",
       "    <tr>\n",
       "      <th>1</th>\n",
       "      <td>6</td>\n",
       "      <td>1.4691</td>\n",
       "    </tr>\n",
       "    <tr>\n",
       "      <th>2</th>\n",
       "      <td>8</td>\n",
       "      <td>1.4691</td>\n",
       "    </tr>\n",
       "    <tr>\n",
       "      <th>3</th>\n",
       "      <td>5</td>\n",
       "      <td>1.4691</td>\n",
       "    </tr>\n",
       "    <tr>\n",
       "      <th>4</th>\n",
       "      <td>8</td>\n",
       "      <td>1.4691</td>\n",
       "    </tr>\n",
       "    <tr>\n",
       "      <th>5</th>\n",
       "      <td>8</td>\n",
       "      <td>1.4691</td>\n",
       "    </tr>\n",
       "    <tr>\n",
       "      <th>6</th>\n",
       "      <td>9</td>\n",
       "      <td>1.4691</td>\n",
       "    </tr>\n",
       "    <tr>\n",
       "      <th>7</th>\n",
       "      <td>7</td>\n",
       "      <td>1.4691</td>\n",
       "    </tr>\n",
       "    <tr>\n",
       "      <th>8</th>\n",
       "      <td>-5</td>\n",
       "      <td>1.4691</td>\n",
       "    </tr>\n",
       "    <tr>\n",
       "      <th>9</th>\n",
       "      <td>3</td>\n",
       "      <td>1.4691</td>\n",
       "    </tr>\n",
       "  </tbody>\n",
       "</table>\n",
       "</div>"
      ],
      "text/plain": [
       "   acoustic_data  time_to_failure\n",
       "0             12           1.4691\n",
       "1              6           1.4691\n",
       "2              8           1.4691\n",
       "3              5           1.4691\n",
       "4              8           1.4691\n",
       "5              8           1.4691\n",
       "6              9           1.4691\n",
       "7              7           1.4691\n",
       "8             -5           1.4691\n",
       "9              3           1.4691"
      ]
     },
     "execution_count": 8,
     "metadata": {},
     "output_type": "execute_result"
    }
   ],
   "source": [
    "#print first 10 entries\n",
    "train.head(10)"
   ]
  },
  {
   "cell_type": "code",
   "execution_count": 9,
   "metadata": {
    "colab": {
     "base_uri": "https://localhost:8080/",
     "height": 498
    },
    "colab_type": "code",
    "id": "YBkgDQ0by_Q9",
    "outputId": "0ec28b3c-dcb2-4df5-f11b-115201755c0f"
   },
   "outputs": [
    {
     "data": {
      "image/png": "[encoded data removed]",
      "text/plain": [
       "<Figure size 864x576 with 2 Axes>"
      ]
     },
     "metadata": {
      "needs_background": "light"
     },
     "output_type": "display_data"
    }
   ],
   "source": [
    "#visualize 1% of samples data, first 100 datapoints\n",
    "train_ad_sample_df = train['acoustic_data'].values[::100]\n",
    "train_ttf_sample_df = train['time_to_failure'].values[::100]\n",
    "\n",
    "#function for plotting based on both features\n",
    "def plot_acc_ttf_data(train_ad_sample_df, train_ttf_sample_df, title=\"Acoustic data and time to failure: 1% sampled data\"):\n",
    "    fig, ax1 = plt.subplots(figsize=(12, 8))\n",
    "    plt.title(title)\n",
    "    plt.plot(train_ad_sample_df, color='r')\n",
    "    ax1.set_ylabel('acoustic data', color='r')\n",
    "    plt.legend(['acoustic data'], loc=(0.01, 0.95))\n",
    "    ax2 = ax1.twinx()\n",
    "    plt.plot(train_ttf_sample_df, color='b')\n",
    "    ax2.set_ylabel('time to failure', color='b')\n",
    "    plt.legend(['time to failure'], loc=(0.01, 0.9))\n",
    "    plt.grid(True)\n",
    "\n",
    "plot_acc_ttf_data(train_ad_sample_df, train_ttf_sample_df)\n",
    "del train_ad_sample_df\n",
    "del train_ttf_sample_df"
   ]
  },
  {
   "cell_type": "markdown",
   "metadata": {
    "colab_type": "text",
    "id": "nosoupBSzMZV"
   },
   "source": [
    "![alt text](https://www.kaggleusercontent.com/kf/10364757/eyJhbGciOiJkaXIiLCJlbmMiOiJBMTI4Q0JDLUhTMjU2In0..onsybg1U7xvMy-GjJdYtTA.RUVJoAZ7sxCnRNmM1WTjXMjmsl7raHI_FzIYc0vh0poV3hcKVMrr2GRPCwlr_urWqByjmahePNQlEFEsBBUO2meVZXzX-HjRQuU40ySqElezoc9HLF7nGBMCKPSYt-HPZAsGHnXBtkXV8qVOZlu5BWddQp7wthNJ5JkSftT41GM.vS5mBigypyc7eNri4zC2rQ/__results___files/__results___12_0.png)"
   ]
  },
  {
   "cell_type": "markdown",
   "metadata": {
    "colab_type": "text",
    "id": "pgPdreNUefZl"
   },
   "source": [
    "# Step 4 - Feature Engineering"
   ]
  },
  {
   "cell_type": "code",
   "execution_count": 24,
   "metadata": {
    "colab": {},
    "colab_type": "code",
    "id": "7QfB_uNr01V8"
   },
   "outputs": [],
   "source": [
    "# Step 4 - Feature Engineering and signifiance of these statistical features\n",
    "\n",
    "#lets create a function to generate some statistical features based on the training data\n",
    "def gen_features(X):\n",
    "    strain = []\n",
    "    strain.append(X.mean())\n",
    "    strain.append(X.std())\n",
    "    strain.append(X.min())\n",
    "    strain.append(X.max())\n",
    "    strain.append(X.kurtosis())\n",
    "    strain.append(X.skew())\n",
    "    strain.append(np.abs(np.fft.fft(X)).mean())\n",
    "    strain.append(np.trapz(np.abs(X)))\n",
    "    strain.append(np.quantile(X,0.01))\n",
    "    strain.append(np.quantile(X,0.05))\n",
    "    strain.append(np.quantile(X,0.95))\n",
    "    strain.append(np.quantile(X,0.99))\n",
    "    strain.append(np.abs(X).max())\n",
    "    strain.append(np.abs(X).mean())\n",
    "    strain.append(np.abs(X).std())\n",
    "    return pd.Series(strain)\n",
    "\n"
   ]
  },
  {
   "cell_type": "code",
   "execution_count": 25,
   "metadata": {
    "colab": {},
    "colab_type": "code",
    "id": "OtK1gGWE2sTF"
   },
   "outputs": [],
   "source": [
    "train = pd.read_csv('train.csv', iterator=True, chunksize=150_000, dtype={'acoustic_data': np.int16, 'time_to_failure': np.float64})\n",
    "\n",
    "X_train = pd.DataFrame()\n",
    "y_train = pd.Series()\n",
    "for df in train:\n",
    "    ch = gen_features(df['acoustic_data'])\n",
    "    X_train = X_train.append(ch, ignore_index=True)\n",
    "    y_train = y_train.append(pd.Series(df['time_to_failure'].values[-1]))\n"
   ]
  },
  {
   "cell_type": "code",
   "execution_count": 26,
   "metadata": {
    "colab": {
     "base_uri": "https://localhost:8080/",
     "height": 317
    },
    "colab_type": "code",
    "id": "_01NoTlx4cWL",
    "outputId": "5f8f6b4c-2940-4802-87e7-3510266de60b"
   },
   "outputs": [
    {
     "data": {
      "text/html": [
       "<div>\n",
       "<style scoped>\n",
       "    .dataframe tbody tr th:only-of-type {\n",
       "        vertical-align: middle;\n",
       "    }\n",
       "\n",
       "    .dataframe tbody tr th {\n",
       "        vertical-align: top;\n",
       "    }\n",
       "\n",
       "    .dataframe thead th {\n",
       "        text-align: right;\n",
       "    }\n",
       "</style>\n",
       "<table border=\"1\" class=\"dataframe\">\n",
       "  <thead>\n",
       "    <tr style=\"text-align: right;\">\n",
       "      <th></th>\n",
       "      <th>0</th>\n",
       "      <th>1</th>\n",
       "      <th>2</th>\n",
       "      <th>3</th>\n",
       "      <th>4</th>\n",
       "      <th>5</th>\n",
       "      <th>6</th>\n",
       "      <th>7</th>\n",
       "      <th>8</th>\n",
       "      <th>9</th>\n",
       "      <th>10</th>\n",
       "      <th>11</th>\n",
       "      <th>12</th>\n",
       "      <th>13</th>\n",
       "      <th>14</th>\n",
       "    </tr>\n",
       "  </thead>\n",
       "  <tbody>\n",
       "    <tr>\n",
       "      <th>count</th>\n",
       "      <td>4195.000000</td>\n",
       "      <td>4195.000000</td>\n",
       "      <td>4195.000000</td>\n",
       "      <td>4195.000000</td>\n",
       "      <td>4195.000000</td>\n",
       "      <td>4195.000000</td>\n",
       "      <td>4195.000000</td>\n",
       "      <td>4.195000e+03</td>\n",
       "      <td>4195.000000</td>\n",
       "      <td>4195.000000</td>\n",
       "      <td>4195.000000</td>\n",
       "      <td>4195.000000</td>\n",
       "      <td>4195.000000</td>\n",
       "      <td>4195.000000</td>\n",
       "      <td>4195.000000</td>\n",
       "    </tr>\n",
       "    <tr>\n",
       "      <th>mean</th>\n",
       "      <td>4.519475</td>\n",
       "      <td>6.547788</td>\n",
       "      <td>-149.190942</td>\n",
       "      <td>163.522288</td>\n",
       "      <td>68.297997</td>\n",
       "      <td>0.125830</td>\n",
       "      <td>1453.208907</td>\n",
       "      <td>8.319795e+05</td>\n",
       "      <td>-11.224603</td>\n",
       "      <td>-2.184779</td>\n",
       "      <td>11.231716</td>\n",
       "      <td>20.321890</td>\n",
       "      <td>170.046246</td>\n",
       "      <td>5.547367</td>\n",
       "      <td>5.750165</td>\n",
       "    </tr>\n",
       "    <tr>\n",
       "      <th>std</th>\n",
       "      <td>0.256049</td>\n",
       "      <td>8.503939</td>\n",
       "      <td>265.087984</td>\n",
       "      <td>272.930331</td>\n",
       "      <td>70.532565</td>\n",
       "      <td>0.477901</td>\n",
       "      <td>1163.103215</td>\n",
       "      <td>2.277457e+05</td>\n",
       "      <td>14.106852</td>\n",
       "      <td>2.346558</td>\n",
       "      <td>2.358067</td>\n",
       "      <td>14.225526</td>\n",
       "      <td>296.887015</td>\n",
       "      <td>1.517038</td>\n",
       "      <td>8.339211</td>\n",
       "    </tr>\n",
       "    <tr>\n",
       "      <th>min</th>\n",
       "      <td>3.596313</td>\n",
       "      <td>2.802720</td>\n",
       "      <td>-5515.000000</td>\n",
       "      <td>23.000000</td>\n",
       "      <td>0.648602</td>\n",
       "      <td>-4.091826</td>\n",
       "      <td>550.095589</td>\n",
       "      <td>2.189935e+05</td>\n",
       "      <td>-336.000000</td>\n",
       "      <td>-39.000000</td>\n",
       "      <td>9.000000</td>\n",
       "      <td>11.000000</td>\n",
       "      <td>23.000000</td>\n",
       "      <td>4.147707</td>\n",
       "      <td>2.589085</td>\n",
       "    </tr>\n",
       "    <tr>\n",
       "      <th>25%</th>\n",
       "      <td>4.349497</td>\n",
       "      <td>4.478637</td>\n",
       "      <td>-154.000000</td>\n",
       "      <td>92.000000</td>\n",
       "      <td>28.090227</td>\n",
       "      <td>-0.040779</td>\n",
       "      <td>1174.276986</td>\n",
       "      <td>7.592722e+05</td>\n",
       "      <td>-14.000000</td>\n",
       "      <td>-3.000000</td>\n",
       "      <td>10.000000</td>\n",
       "      <td>15.000000</td>\n",
       "      <td>94.000000</td>\n",
       "      <td>5.061843</td>\n",
       "      <td>3.862810</td>\n",
       "    </tr>\n",
       "    <tr>\n",
       "      <th>50%</th>\n",
       "      <td>4.522147</td>\n",
       "      <td>5.618798</td>\n",
       "      <td>-111.000000</td>\n",
       "      <td>123.000000</td>\n",
       "      <td>45.816625</td>\n",
       "      <td>0.085620</td>\n",
       "      <td>1332.606008</td>\n",
       "      <td>8.071245e+05</td>\n",
       "      <td>-10.000000</td>\n",
       "      <td>-2.000000</td>\n",
       "      <td>11.000000</td>\n",
       "      <td>19.000000</td>\n",
       "      <td>127.000000</td>\n",
       "      <td>5.380853</td>\n",
       "      <td>4.781513</td>\n",
       "    </tr>\n",
       "    <tr>\n",
       "      <th>75%</th>\n",
       "      <td>4.693350</td>\n",
       "      <td>6.880904</td>\n",
       "      <td>-79.000000</td>\n",
       "      <td>170.000000</td>\n",
       "      <td>78.664202</td>\n",
       "      <td>0.253930</td>\n",
       "      <td>1500.602357</td>\n",
       "      <td>8.622785e+05</td>\n",
       "      <td>-6.000000</td>\n",
       "      <td>-1.000000</td>\n",
       "      <td>12.000000</td>\n",
       "      <td>23.000000</td>\n",
       "      <td>175.000000</td>\n",
       "      <td>5.748553</td>\n",
       "      <td>5.887947</td>\n",
       "    </tr>\n",
       "    <tr>\n",
       "      <th>max</th>\n",
       "      <td>5.391993</td>\n",
       "      <td>153.703569</td>\n",
       "      <td>-15.000000</td>\n",
       "      <td>5444.000000</td>\n",
       "      <td>631.158927</td>\n",
       "      <td>4.219429</td>\n",
       "      <td>21776.257921</td>\n",
       "      <td>4.914304e+06</td>\n",
       "      <td>-2.000000</td>\n",
       "      <td>0.000000</td>\n",
       "      <td>50.000000</td>\n",
       "      <td>337.000000</td>\n",
       "      <td>5515.000000</td>\n",
       "      <td>32.762073</td>\n",
       "      <td>150.432368</td>\n",
       "    </tr>\n",
       "  </tbody>\n",
       "</table>\n",
       "</div>"
      ],
      "text/plain": [
       "                0            1            2            3            4   \\\n",
       "count  4195.000000  4195.000000  4195.000000  4195.000000  4195.000000   \n",
       "mean      4.519475     6.547788  -149.190942   163.522288    68.297997   \n",
       "std       0.256049     8.503939   265.087984   272.930331    70.532565   \n",
       "min       3.596313     2.802720 -5515.000000    23.000000     0.648602   \n",
       "25%       4.349497     4.478637  -154.000000    92.000000    28.090227   \n",
       "50%       4.522147     5.618798  -111.000000   123.000000    45.816625   \n",
       "75%       4.693350     6.880904   -79.000000   170.000000    78.664202   \n",
       "max       5.391993   153.703569   -15.000000  5444.000000   631.158927   \n",
       "\n",
       "                5             6             7            8            9   \\\n",
       "count  4195.000000   4195.000000  4.195000e+03  4195.000000  4195.000000   \n",
       "mean      0.125830   1453.208907  8.319795e+05   -11.224603    -2.184779   \n",
       "std       0.477901   1163.103215  2.277457e+05    14.106852     2.346558   \n",
       "min      -4.091826    550.095589  2.189935e+05  -336.000000   -39.000000   \n",
       "25%      -0.040779   1174.276986  7.592722e+05   -14.000000    -3.000000   \n",
       "50%       0.085620   1332.606008  8.071245e+05   -10.000000    -2.000000   \n",
       "75%       0.253930   1500.602357  8.622785e+05    -6.000000    -1.000000   \n",
       "max       4.219429  21776.257921  4.914304e+06    -2.000000     0.000000   \n",
       "\n",
       "                10           11           12           13           14  \n",
       "count  4195.000000  4195.000000  4195.000000  4195.000000  4195.000000  \n",
       "mean     11.231716    20.321890   170.046246     5.547367     5.750165  \n",
       "std       2.358067    14.225526   296.887015     1.517038     8.339211  \n",
       "min       9.000000    11.000000    23.000000     4.147707     2.589085  \n",
       "25%      10.000000    15.000000    94.000000     5.061843     3.862810  \n",
       "50%      11.000000    19.000000   127.000000     5.380853     4.781513  \n",
       "75%      12.000000    23.000000   175.000000     5.748553     5.887947  \n",
       "max      50.000000   337.000000  5515.000000    32.762073   150.432368  "
      ]
     },
     "execution_count": 26,
     "metadata": {},
     "output_type": "execute_result"
    }
   ],
   "source": [
    "X_train.describe()"
   ]
  },
  {
   "cell_type": "code",
   "execution_count": 27,
   "metadata": {
    "colab": {
     "base_uri": "https://localhost:8080/",
     "height": 34
    },
    "colab_type": "code",
    "id": "zUvIKHcA1JZ8",
    "outputId": "ac6ca531-334d-4226-dafe-5af61b9e2a84"
   },
   "outputs": [
    {
     "data": {
      "text/plain": [
       "{'learn': {'MAE': 1.7764423798285567}}"
      ]
     },
     "execution_count": 27,
     "metadata": {},
     "output_type": "execute_result"
    }
   ],
   "source": [
    "#Model #1 - Catboost\n",
    "\n",
    "train_pool = Pool(X_train, y_train)\n",
    "m = CatBoostRegressor(iterations=10000, loss_function='MAE', boosting_type='Ordered')\n",
    "m.fit(X_train, y_train, silent=True)\n",
    "m.best_score_"
   ]
  },
  {
   "cell_type": "code",
   "execution_count": null,
   "metadata": {
    "colab": {
     "base_uri": "https://localhost:8080/",
     "height": 51
    },
    "colab_type": "code",
    "id": "4g4VQh8vFtjH",
    "outputId": "2d20fa28-cf7a-4701-dde1-5952e42bd7c2"
   },
   "outputs": [],
   "source": [
    "#Model #2 - Support Vector Machine w/ RBF + Grid Search\n",
    "\n",
    "from sklearn.preprocessing import StandardScaler\n",
    "from sklearn.model_selection import GridSearchCV\n",
    "from sklearn.svm import NuSVR, SVR\n",
    "\n",
    "\n",
    "scaler = StandardScaler()\n",
    "scaler.fit(X_train)\n",
    "X_train_scaled = scaler.transform(X_train)\n",
    "\n",
    "parameters = [{'gamma': [0.001, 0.005, 0.01, 0.02, 0.05, 0.1],\n",
    "               'C': [0.1, 0.2, 0.25, 0.5, 1, 1.5, 2]}]\n",
    "               #'nu': [0.75, 0.8, 0.85, 0.9, 0.95, 0.97]}]\n",
    "\n",
    "reg1 = GridSearchCV(SVR(kernel='rbf', tol=0.01), parameters, cv=5, scoring='neg_mean_absolute_error')\n",
    "reg1.fit(X_train_scaled, y_train.values.flatten())\n",
    "y_pred1 = reg1.predict(X_train_scaled)\n",
    "\n",
    "print(\"Best CV score: {:.4f}\".format(reg1.best_score_))\n",
    "print(reg1.best_params_)"
   ]
  },
  {
   "cell_type": "markdown",
   "metadata": {
    "colab_type": "text",
    "id": "tInD81CRMeM8"
   },
   "source": [
    "# Future Ideas \n",
    "- Recurrent Networks\n",
    "- Genetic Algorithms\n",
    "- Ordinary Differential Equation Networks (YOOOOOO)\n",
    "\n",
    "## Time to Rap"
   ]
  }
 ],
 "metadata": {
  "colab": {
   "name": "Earthquake_Challenge.ipynb",
   "provenance": [],
   "version": "0.3.2"
  },
  "kernelspec": {
   "display_name": "Python 3",
   "language": "python",
   "name": "python3"
  },
  "language_info": {
   "codemirror_mode": {
    "name": "ipython",
    "version": 3
   },
   "file_extension": ".py",
   "mimetype": "text/x-python",
   "name": "python",
   "nbconvert_exporter": "python",
   "pygments_lexer": "ipython3",
   "version": "3.7.1"
  }
 },
 "nbformat": 4,
 "nbformat_minor": 1
}
